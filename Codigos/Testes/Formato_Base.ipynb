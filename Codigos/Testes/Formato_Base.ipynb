{
 "cells": [
  {
   "cell_type": "code",
   "execution_count": 1,
   "metadata": {},
   "outputs": [
    {
     "ename": "IndentationError",
     "evalue": "expected an indented block after 'if' statement on line 25 (671681887.py, line 29)",
     "output_type": "error",
     "traceback": [
      "\u001b[0;36m  Cell \u001b[0;32mIn [1], line 29\u001b[0;36m\u001b[0m\n\u001b[0;31m    P_sequence = [j['start'], j['end'], j['strand'], j['protein']['sequence']]\u001b[0m\n\u001b[0m    ^\u001b[0m\n\u001b[0;31mIndentationError\u001b[0m\u001b[0;31m:\u001b[0m expected an indented block after 'if' statement on line 25\n"
     ]
    }
   ],
   "source": [
    "import pandas as pd \n",
    "import numpy  as np\n",
    "import json\n",
    "\n",
    "file_path = '/home/mantovani/Documents/IC/HMC_TE-s/Temp_Data/Dados_Dominios_Conservados/sequences.json'\n",
    "\n",
    "df:dict = {'Name': []}\n",
    "\n",
    "with open(file_path, mode='r') as file:\n",
    "\n",
    "    dados = json.load(file)\n",
    "\n",
    "    for i in dados['results']:\n",
    "\n",
    "        df['Name'].append(i['crossReferences'][0]['name'].strip()[0:11])\n",
    "\n",
    "        l_reading_frames, l_df = len(i['openReadingFrames']), (len(df)-1)/4\n",
    "\n",
    "        for j in range(max(l_reading_frames, l_df)):\n",
    "\n",
    "            reading_frames = i['openReadingFrames'][j]\n",
    "\n",
    "            if j > l_df:\n",
    "\n",
    "                l = [np.nan for i in range(len(df['Name'])-1)]#pois o nome é gerado antes\n",
    "\n",
    "                dados['Start_{}'.format(j)]             = l\n",
    "                dados['End_{}'.format(j)]               = l\n",
    "                dados['Strand_{}'.format(j)]            = l\n",
    "                dados['Protein_Sequence_{}'.format(j)]  = l\n",
    "\n",
    "            elif j <= l_reading_frames:\n",
    "\n",
    "                dados['Start_{}'.format(j)].append(reading_frames['start'])\n",
    "                dados['End_{}'.format(j)].append(reading_frames['end'])\n",
    "                dados['Strand_{}'.format(j)].append(reading_frames['strand'])\n",
    "                dados['Protein_Sequence_{}'.format(j)].append(reading_frames['protein']['sequence'])\n",
    "\n",
    "            else:\n",
    "\n",
    "                dados['Start_{}'.format(j)].append(np.nan)\n",
    "                dados['End_{}'.format(j)].append(np.nan)\n",
    "                dados['Strand_{}'.format(j)].append(np.nan)\n",
    "                dados['Protein_Sequence_{}'.format(j)].append(np.nan)\n",
    "\n",
    "    print(dados)\n",
    "\n",
    "    file.close()"
   ]
  },
  {
   "cell_type": "code",
   "execution_count": 5,
   "metadata": {},
   "outputs": [
    {
     "data": {
      "text/html": [
       "<div>\n",
       "<style scoped>\n",
       "    .dataframe tbody tr th:only-of-type {\n",
       "        vertical-align: middle;\n",
       "    }\n",
       "\n",
       "    .dataframe tbody tr th {\n",
       "        vertical-align: top;\n",
       "    }\n",
       "\n",
       "    .dataframe thead th {\n",
       "        text-align: right;\n",
       "    }\n",
       "</style>\n",
       "<table border=\"1\" class=\"dataframe\">\n",
       "  <thead>\n",
       "    <tr style=\"text-align: right;\">\n",
       "      <th></th>\n",
       "      <th>chave1</th>\n",
       "      <th>chave2</th>\n",
       "    </tr>\n",
       "  </thead>\n",
       "  <tbody>\n",
       "    <tr>\n",
       "      <th>0</th>\n",
       "      <td>subchave1</td>\n",
       "      <td>valor2</td>\n",
       "    </tr>\n",
       "    <tr>\n",
       "      <th>1</th>\n",
       "      <td>subvalor1</td>\n",
       "      <td>NaN</td>\n",
       "    </tr>\n",
       "    <tr>\n",
       "      <th>2</th>\n",
       "      <td>subchave2</td>\n",
       "      <td>NaN</td>\n",
       "    </tr>\n",
       "    <tr>\n",
       "      <th>3</th>\n",
       "      <td>subvalor2</td>\n",
       "      <td>NaN</td>\n",
       "    </tr>\n",
       "  </tbody>\n",
       "</table>\n",
       "</div>"
      ],
      "text/plain": [
       "      chave1  chave2\n",
       "0  subchave1  valor2\n",
       "1  subvalor1     NaN\n",
       "2  subchave2     NaN\n",
       "3  subvalor2     NaN"
      ]
     },
     "execution_count": 5,
     "metadata": {},
     "output_type": "execute_result"
    }
   ],
   "source": [
    "import pandas as pd \n",
    "import numpy as np\n",
    "\n",
    "meu_dict = {\n",
    "    'chave1': ['subchave1', 'subvalor1', 'subchave2', 'subvalor2'],\n",
    "    'chave2': ['valor2']\n",
    "} \n",
    "\n",
    "max_len = max(len(v) for v in meu_dict.values())\n",
    "\n",
    "# Preencher as listas menores com NaN\n",
    "for key in meu_dict:\n",
    "    if len(meu_dict[key]) < max_len:\n",
    "        meu_dict[key].extend([np.nan] * (max_len - len(meu_dict[key])))\n",
    "\n",
    "meu_dict = pd.DataFrame(meu_dict)\n",
    "\n",
    "meu_dict.head()"
   ]
  },
  {
   "cell_type": "code",
   "execution_count": 11,
   "metadata": {},
   "outputs": [
    {
     "name": "stdout",
     "output_type": "stream",
     "text": [
      "[nan, nan, nan, nan, nan, nan, nan, nan, nan, nan]\n"
     ]
    }
   ],
   "source": [
    "print([np.nan for i in range(10)])"
   ]
  }
 ],
 "metadata": {
  "kernelspec": {
   "display_name": "Python 3",
   "language": "python",
   "name": "python3"
  },
  "language_info": {
   "codemirror_mode": {
    "name": "ipython",
    "version": 3
   },
   "file_extension": ".py",
   "mimetype": "text/x-python",
   "name": "python",
   "nbconvert_exporter": "python",
   "pygments_lexer": "ipython3",
   "version": "3.11.2"
  }
 },
 "nbformat": 4,
 "nbformat_minor": 2
}
